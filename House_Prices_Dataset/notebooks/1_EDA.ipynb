{
 "cells": [
  {
   "cell_type": "markdown",
   "metadata": {},
   "source": [
    "# House Prices Dataset - Exploratory Data Analysis (EDA)\n",
    "\n",
    "In this notebook, we will explore the House Prices dataset. The objectives of this EDA are to:\n",
    "\n",
    "- **Understand the Data Structure:**  \n",
    "  Examine the columns, data types, and general summary statistics.\n",
    "  \n",
    "- **Identify Missing Values:**  \n",
    "  Determine which features have missing values and the extent of these missing data points.\n",
    "\n",
    "- **Visualize Distributions:**  \n",
    "  Look at the distribution of key variables, especially the target variable `SalePrice`, and see how they relate to other features.\n",
    "\n",
    "- **Detect Outliers:**  \n",
    "  Identify any outliers or unusual data points that might need further investigation.\n",
    "\n",
    "By doing this, we will lay the foundation for effective data cleaning and feature engineering in later steps."
   ]
  },
  {
   "cell_type": "code",
   "execution_count": null,
   "metadata": {},
   "outputs": [],
   "source": [
    "import pandas as pd\n",
    "import numpy as np\n",
    "import matplotlib.pyplot as plt\n",
    "import seaborn as sns\n",
    "\n",
    "# Enable inline plotting\n",
    "%matplotlib inline\n",
    "\n",
    "# Load the training dataset from the 'data/raw' folder\n",
    "df = pd.read_csv('C:/Users/ycarvalho/OneDrive - EDENRED/Documentos/Data_Analysis_MLE_Kaggle/House_Prices_Dataset/data/raw/train.csv')\n",
    "\n",
    "print(\"First 5 rows of the dataset:\")\n",
    "print(df.head())\n",
    "\n",
    "# Display basic information about the dataset\n",
    "print(\"\\nDataset Information:\")\n",
    "print(df.info())\n",
    "\n",
    "# Show summary statistics of the dataset\n",
    "print(\"\\nSummary Statistics:\")\n",
    "print(df.describe())\n",
    "\n",
    "# Check for missing values\n",
    "print(\"\\nMissing Values in Each Column:\")\n",
    "print(df.isnull().sum())"
   ]
  },
  {
   "cell_type": "markdown",
   "metadata": {},
   "source": [
    "# Step 2: Data Cleaning\n",
    "\n",
    "In this step, we'll clean the House Prices dataset by addressing missing values, handling outliers, and preparing the data for feature engineering. Here are the main tasks:\n",
    "\n",
    "1. **Identify Missing Values:**  \n",
    "   We'll inspect each column to see which ones have missing data and how many values are missing.\n",
    "\n",
    "2. **Handle Missing Values:**  \n",
    "   Depending on the column:\n",
    "   - For numeric columns, we can fill missing values with the median (or mean) value.\n",
    "   - For categorical columns, we may fill missing values with the mode or mark them as \"None\" if appropriate.\n",
    "   - In some cases, if a column has too many missing values, we might consider dropping it.\n",
    "\n",
    "3. **Detect Outliers:**  \n",
    "   We'll look at the distributions of key numerical features (like `SalePrice`, `GrLivArea`, etc.) to identify any outliers that might need special handling.\n",
    "\n",
    "4. **Data Type Conversions:**  \n",
    "   Ensure that each feature is in the correct format (e.g., categorical features are encoded as such).\n",
    "\n",
    "Cleaning the data properly will help ensure that our subsequent feature engineering and model building steps work more effectively.\n"
   ]
  },
  {
   "cell_type": "code",
   "execution_count": null,
   "metadata": {},
   "outputs": [],
   "source": [
    "# Visualize missing values\n",
    "plt.figure(figsize=(12,6))\n",
    "sns.heatmap(df.isnull(), cbar=False, cmap=\"viridis\")\n",
    "plt.title(\"Missing Values Heatmap\")\n",
    "plt.show()"
   ]
  }
 ],
 "metadata": {
  "kernelspec": {
   "display_name": "Python 3",
   "language": "python",
   "name": "python3"
  },
  "language_info": {
   "codemirror_mode": {
    "name": "ipython",
    "version": 3
   },
   "file_extension": ".py",
   "mimetype": "text/x-python",
   "name": "python",
   "nbconvert_exporter": "python",
   "pygments_lexer": "ipython3",
   "version": "3.13.1"
  }
 },
 "nbformat": 4,
 "nbformat_minor": 2
}
