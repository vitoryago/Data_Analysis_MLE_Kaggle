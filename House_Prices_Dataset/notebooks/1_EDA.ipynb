{
 "cells": [
  {
   "cell_type": "markdown",
   "metadata": {},
   "source": [
    "# House Prices Dataset - Exploratory Data Analysis (EDA)\n",
    "\n",
    "In this notebook, we will explore the House Prices dataset. The objectives of this EDA are to:\n",
    "\n",
    "- **Understand the Data Structure:**  \n",
    "  Examine the columns, data types, and general summary statistics.\n",
    "  \n",
    "- **Identify Missing Values:**  \n",
    "  Determine which features have missing values and the extent of these missing data points.\n",
    "\n",
    "- **Visualize Distributions:**  \n",
    "  Look at the distribution of key variables, especially the target variable `SalePrice`, and see how they relate to other features.\n",
    "\n",
    "- **Detect Outliers:**  \n",
    "  Identify any outliers or unusual data points that might need further investigation.\n",
    "\n",
    "By doing this, we will lay the foundation for effective data cleaning and feature engineering in later steps."
   ]
  },
  {
   "cell_type": "code",
   "execution_count": null,
   "metadata": {},
   "outputs": [],
   "source": [
    "import pandas as pd\n",
    "import numpy as np\n",
    "import matplotlib.pyplot as plt\n",
    "import seaborn\n",
    "\n",
    "# Enable inline plotting\n",
    "%matplotlib inline\n",
    "\n",
    "# Load the training dataset from the 'data/raw' folder\n",
    "df = pd.read_csv('C:/Users/ycarvalho/OneDrive - EDENRED/Documentos/Data_Analysis_MLE_Kaggle/House_Prices_Dataset/data/raw')\n",
    "\n",
    "print(\"First 5 rows of the dataset:\")\n",
    "print(df.head())"
   ]
  }
 ],
 "metadata": {
  "kernelspec": {
   "display_name": "Python 3",
   "language": "python",
   "name": "python3"
  },
  "language_info": {
   "codemirror_mode": {
    "name": "ipython",
    "version": 3
   },
   "file_extension": ".py",
   "mimetype": "text/x-python",
   "name": "python",
   "nbconvert_exporter": "python",
   "pygments_lexer": "ipython3",
   "version": "3.13.1"
  }
 },
 "nbformat": 4,
 "nbformat_minor": 2
}
